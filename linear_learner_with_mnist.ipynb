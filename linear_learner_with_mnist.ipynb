{
 "cells": [
  {
   "cell_type": "code",
   "execution_count": null,
   "id": "be5f08ed-5d23-4122-bc0e-3227ba09ebf5",
   "metadata": {},
   "outputs": [],
   "source": [
    "import re\n",
    "import boto3\n",
    "import sagemaker\n",
    "from sagemaker import get_execution_role"
   ]
  },
  {
   "cell_type": "code",
   "execution_count": null,
   "id": "06948088-26fe-4363-a086-9269d831cd4f",
   "metadata": {},
   "outputs": [],
   "source": [
    "sess = sagemaker.Session()\n",
    "region = boto3.Session().region_name\n",
    "\n",
    "# S3 bucket where data is downloaded and stored\n",
    "downloaded_data_bucket = f\"sagemaker-example-files-prod-{region}\"\n",
    "downloaded_data_prefix = \"datasets/image/MNIST\"\n",
    "\n",
    "#bucket for saving cache and model artifacts\n",
    "bucket = sess.default_bucket() # this is the default bucket created for this session by Sagemaker\n",
    "prefix = \"sagemaker/DEMO-linear-mnist\"\n",
    "\n",
    "# role\n",
    "role = get_execution_role()"
   ]
  },
  {
   "cell_type": "code",
   "execution_count": null,
   "id": "c41275fd-bac7-459a-87ea-a2d7f0015212",
   "metadata": {},
   "outputs": [],
   "source": [
    "%%time\n",
    "import pickle, gzip, numpy, json\n",
    "\n",
    "# load the dataset\n",
    "s3 = boto3.client(\"s3\")\n",
    "s3.download_file(downloaded_data_bucket,\n",
    "                 f\"{downloaded_data_prefix}/mnist.pkl.gz\", \"mnist.pkl.gz\")\n",
    "with gzip.open(\"mnist.pkl.gz\") as f:\n",
    "    train_set, valid_set, test_set = pickle.load(f, encoding=\"latin1\")"
   ]
  },
  {
   "cell_type": "code",
   "execution_count": null,
   "id": "b2f7c0c3-3084-47b1-bf9a-d53df6aaeb8b",
   "metadata": {},
   "outputs": [],
   "source": [
    "%matplotlib inline\n",
    "import matplotlib.pyplot as plt\n",
    "\n",
    "plt.rcParams[\"figure.figsize\"] = (2, 10)\n",
    "\n",
    "def show_digit(img, caption=\"\", subplot=None):\n",
    "    if subplot is None:\n",
    "        _, subplot = plt.subplots(1, 1)\n",
    "    imgr = img.reshape((28, 28))\n",
    "    subplot.axis(\"off\")\n",
    "    subplot.imshow(imgr, cmap=\"gray\")\n",
    "    plt.title(caption)\n",
    "\n",
    "show_digit(train_set[0][30], f\"This is a {train_set[1][30]}\")\n"
   ]
  },
  {
   "cell_type": "code",
   "execution_count": null,
   "id": "a584b694-87e7-46ab-ac07-985e2961ce60",
   "metadata": {},
   "outputs": [],
   "source": [
    "# Data conversion\n",
    "\n",
    "import io\n",
    "import numpy as np\n",
    "import sagemaker.amazon.common as smac"
   ]
  },
  {
   "cell_type": "code",
   "execution_count": null,
   "id": "c40f3078-b4a4-4438-aa27-bcaad0b7a2f0",
   "metadata": {},
   "outputs": [],
   "source": [
    "train_set_vectors = np.array([t.tolist() for t in train_set[0]]).astype(\"float32\")\n",
    "train_set_labels = np.where(np.array([t.tolist() for t in train_set[1]]) == 0, 1, 0).astype(\"float32\")\n",
    "\n",
    "validation_set_vectors = np.array([t.tolist() for t in valid_set[0]]).astype(\"float32\")\n",
    "validation_set_labels = np.where(np.array([t.tolist() for t in valid_set[1]]) == 0, 1, 0).astype(\"float32\")\n",
    "\n",
    "train_set_buf = io.BytesIO()\n",
    "validation_set_buf = io.BytesIO()\n",
    "\n",
    "smac.write_numpy_to_dense_tensor(train_set_buf, train_set_vectors, train_set_labels)\n",
    "smac.write_numpy_to_dense_tensor(validation_set_buf, validation_set_vectors, validation_set_labels)"
   ]
  },
  {
   "cell_type": "code",
   "execution_count": null,
   "id": "e124f04e-8891-4801-8bdb-0e118571eae0",
   "metadata": {},
   "outputs": [],
   "source": [
    "train_set_buf.seek(0)\n"
   ]
  },
  {
   "cell_type": "code",
   "execution_count": null,
   "id": "66324232-7b59-4185-9616-a873fcc87b6c",
   "metadata": {},
   "outputs": [],
   "source": [
    "validation_set_buf.seek(0)"
   ]
  },
  {
   "cell_type": "code",
   "execution_count": null,
   "id": "9f07b573-c0d6-403b-b4dc-bc38cfe63c49",
   "metadata": {},
   "outputs": [],
   "source": [
    "# create an s3 location to output model artifacts\n",
    "output_location = f\"s3://{bucket}/{prefix}/output\"\n",
    "print(f\"Training artifacts will be uploaded to {output_location}\")"
   ]
  },
  {
   "cell_type": "code",
   "execution_count": null,
   "id": "6960b90a-9c3e-410b-9031-084a891213a9",
   "metadata": {},
   "outputs": [],
   "source": [
    "# upload training data to S3 bucket\n",
    "import os\n",
    "\n",
    "key = \"recordio-pb-data\"\n",
    "boto3.resource(\"s3\").Bucket(bucket).Object(os.path.join(prefix, \"train\", key)).upload_fileobj(train_set_buf)\n",
    "boto3.resource(\"s3\").Bucket(bucket).Object(os.path.join(prefix, \"validation\", key)).upload_fileobj(validation_set_buf)\n",
    "\n",
    "s3_train_data = f\"s3://{bucket}/{prefix}/train/{key}\"\n",
    "print(f\"Uploaded training data location:{s3_train_data}\")\n",
    "s3_validation_data = f\"s3://{bucket}/{prefix}/validation/{key}\"\n",
    "print(f\"Uploaded validation data location:{s3_validation_data}\")"
   ]
  },
  {
   "cell_type": "code",
   "execution_count": null,
   "id": "c6bfd0a8-3d1c-4fba-a0e6-9e6cca314934",
   "metadata": {},
   "outputs": [],
   "source": [
    "# Training with SageMaker Training\n",
    "from sagemaker import image_uris\n",
    "\n",
    "container = image_uris.retrieve(region=region, framework=\"linear-learner\")\n",
    "deploy_amt_model = True"
   ]
  },
  {
   "cell_type": "code",
   "execution_count": null,
   "id": "7aa681d7-de32-472c-90b5-466edd0c8b40",
   "metadata": {},
   "outputs": [],
   "source": [
    "linear = sagemaker.estimator.Estimator(\n",
    "    image_uri=container,\n",
    "    role=role,\n",
    "    instance_count=1,\n",
    "    instance_type=\"ml.c4.xlarge\",\n",
    "    output_path=output_location,\n",
    "    sagemaker_session=sess\n",
    ")\n",
    "\n",
    "linear.set_hyperparameters(feature_dim=784,\n",
    "                          predictor_type=\"binary_classifier\",\n",
    "                          mini_batch_size=200)\n",
    "linear.fit({\"train\":s3_train_data})"
   ]
  },
  {
   "cell_type": "code",
   "execution_count": null,
   "id": "b8b2fd3b-b695-4c7b-aac2-eaadcc871329",
   "metadata": {},
   "outputs": [],
   "source": [
    "# Training using hyperparameter tuner HPO\n",
    "import time\n",
    "from sagemaker.tuner import IntegerParameter, ContinuousParameter\n",
    "from sagemaker.tuner import HyperparameterTuner\n",
    "\n",
    "job_name = \"DEMO-ll-mni-\" + time.strftime(\"%Y-%m-%d-%H-%M-%S\", time.gmtime())\n",
    "print(f\"Tuning job name:{job_name}\")"
   ]
  },
  {
   "cell_type": "code",
   "execution_count": null,
   "id": "97671690-7fca-462e-8f25-b9fa706d38d3",
   "metadata": {},
   "outputs": [],
   "source": [
    "hyperparameter_ranges = {\n",
    "    \"wd\":ContinuousParameter(1e-7, 1, scaling_type=\"Auto\"),\n",
    "    \"learning_rate\": ContinuousParameter(1e-5, 1, scaling_type=\"Auto\"),\n",
    "    \"mini_batch_size\": IntegerParameter(100, 200, scaling_type=\"Auto\")\n",
    "}\n",
    "\n",
    "max_jobs = 6\n",
    "max_parallel_jobs = 2\n",
    "\n",
    "hp_tuner = HyperparameterTuner(\n",
    "    linear,\n",
    "    \"validation:binary_f_beta\",\n",
    "    hyperparameter_ranges=hyperparameter_ranges,\n",
    "    max_parallel_jobs=max_parallel_jobs,\n",
    "    objective_type=\"Maximize\"\n",
    ")\n",
    "\n",
    "hp_tuner.fit(inputs={\"train\":s3_train_data, \"validation\":s3_validation_data}, job_name=job_name)"
   ]
  },
  {
   "cell_type": "code",
   "execution_count": null,
   "id": "75304ddd-9886-430a-9c83-e4efb7f04603",
   "metadata": {},
   "outputs": [],
   "source": [
    "# deploy the model\n",
    "\n",
    "if deploy_amt_model:\n",
    "    linear_predictor = hp_tuner.deploy(initial_instance_count=1, instance_type=\"ml.m4.xlarge\")\n",
    "else:\n",
    "    linear_predictor = linear.deploy(initial_instance_count=1, instance_type=\"ml.m4.xlarge\")"
   ]
  },
  {
   "cell_type": "code",
   "execution_count": null,
   "id": "83eb7344-6db8-466b-8513-dea0d6eaf24b",
   "metadata": {},
   "outputs": [],
   "source": [
    "# Validate the model\n",
    "\n",
    "from sagemaker.serializers import CSVSerializer\n",
    "from sagemaker.deserializers import JSONDeserializer\n",
    "\n",
    "linear_predictor.serializer = CSVSerializer()\n",
    "linear_predictor.deserializer = JSONDeserializer()"
   ]
  },
  {
   "cell_type": "code",
   "execution_count": null,
   "id": "87ba8461-3a37-4727-9831-20cbb67ba379",
   "metadata": {},
   "outputs": [],
   "source": [
    "# predict a single record\n",
    "result = linear_predictor.predict(train_set[0][30:31], initial_args={\"ContentType\":\"text/csv\"})\n",
    "print(result)"
   ]
  },
  {
   "cell_type": "code",
   "execution_count": null,
   "id": "e7fdf5a6-2526-448a-975b-1bb0d97cbc9c",
   "metadata": {},
   "outputs": [],
   "source": [
    "# batch prediction\n",
    "import numpy as np\n",
    "\n",
    "predictions = []\n",
    "for array in np.array_split(test_set[0], 100):\n",
    "    result = linear_predictor.predict(array)\n",
    "    predictions += [r[\"predicted_label\"] for r in result[\"predictions\"]]\n",
    "\n",
    "predictions = np.array(predictions)"
   ]
  },
  {
   "cell_type": "code",
   "execution_count": null,
   "id": "8ce88566-809f-4c9e-9020-1ac6dcfee93c",
   "metadata": {},
   "outputs": [],
   "source": [
    "import pandas as pd\n",
    "\n",
    "pd.crosstab(\n",
    "    np.where(test_set[1] == 0, 1, 0), predictions, rownames=[\"actuals\"], colnames=[\"predictions\"]\n",
    ")"
   ]
  },
  {
   "cell_type": "code",
   "execution_count": null,
   "id": "1e48a0c4-1c9b-4c9b-8319-22172e59a7be",
   "metadata": {},
   "outputs": [],
   "source": [
    "# delete endpoints and model\n",
    "linear_predictor.delete_model()\n",
    "linear_predictor.delete_endpoint()"
   ]
  }
 ],
 "metadata": {
  "kernelspec": {
   "display_name": "Python 3 (ipykernel)",
   "language": "python",
   "name": "python3"
  },
  "language_info": {
   "codemirror_mode": {
    "name": "ipython",
    "version": 3
   },
   "file_extension": ".py",
   "mimetype": "text/x-python",
   "name": "python",
   "nbconvert_exporter": "python",
   "pygments_lexer": "ipython3",
   "version": "3.10.14"
  }
 },
 "nbformat": 4,
 "nbformat_minor": 5
}
