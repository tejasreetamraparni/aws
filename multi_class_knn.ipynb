{
 "cells": [
  {
   "cell_type": "markdown",
   "id": "8ffb0b5d-1d33-47ea-8dda-c052fe4af754",
   "metadata": {},
   "source": [
    "KNN With Sagemaker Training API - Quick Approach"
   ]
  },
  {
   "cell_type": "code",
   "execution_count": null,
   "id": "c7bef54e-0215-4c0b-ae90-59574b9ef87c",
   "metadata": {},
   "outputs": [],
   "source": [
    "import boto3\n",
    "\n",
    "# Set variables\n",
    "region = boto3.Session().region_name\n",
    "\n",
    "downloaded_data_bucket = f\"sagemaker-example-files-prod-{region}\"\n",
    "downladed_data_prefix = f\"datasets/tabular/uci_covtype\"\n",
    "\n",
    "s3 = boto3.client(\"s3\").download_file(downloaded_data_bucket,\n",
    "                                     f\"{downladed_data_prefix}/covtype.data.gz\", \"covtype.data.gz\")"
   ]
  },
  {
   "cell_type": "code",
   "execution_count": null,
   "id": "3ae521f7-9ef3-40de-8553-0295322b675a",
   "metadata": {},
   "outputs": [],
   "source": [
    "!mkdir -p /tmp/covtype/raw\n",
    "!mv covtype.data.gz /tmp/covtype/raw/covtype.data.gz"
   ]
  },
  {
   "cell_type": "code",
   "execution_count": null,
   "id": "5051944e-b3ee-400a-a75c-189b24a8ef8d",
   "metadata": {},
   "outputs": [],
   "source": [
    "# Preprocessing Data\n",
    "import numpy as np\n",
    "import os\n",
    "\n",
    "data_dir = \"/tmp/covtype/\"\n",
    "processed_subdir = \"standardized\"\n",
    "raw_data_file = os.path.join(data_dir, \"raw\", \"covtype.data.gz\")\n",
    "train_features_file = os.path.join(data_dir, processed_subdir, \"train/csv/features.csv\")\n",
    "train_labels_file = os.path.join(data_dir, processed_subdir, \"train/csv/labels.csv\")\n",
    "test_features_file = os.path.join(data_dir, processed_subdir, \"test/csv/features.csv\")\n",
    "test_labels_file = os.path.join(data_dir, processed_subdir, \"test/csv/labels.csv\")\n",
    "\n",
    "# read raw data\n",
    "print(f\"Read raw data from:{raw_data_file}\")\n",
    "raw = np.loadtxt(raw_data_file, delimiter=\",\")\n",
    "\n",
    "# split into train/test with 90/10 split\n",
    "np.random.seed(0)\n",
    "np.random.shuffle(raw)\n",
    "train_size = int(0.9 * raw.shape[0])\n",
    "train_features = raw[:train_size, :-1]\n",
    "train_labels = raw[:train_size, -1]\n",
    "test_features = raw[train_size:, :-1]\n",
    "test_labels = raw[train_size:, -1]"
   ]
  },
  {
   "cell_type": "code",
   "execution_count": null,
   "id": "ae556616-3c47-4bda-9008-49da51f4b29c",
   "metadata": {},
   "outputs": [],
   "source": [
    "train_features.shape, train_labels.shape, test_features.shape, test_labels.shape"
   ]
  },
  {
   "cell_type": "code",
   "execution_count": null,
   "id": "afea4f5c-1e3c-4f38-a258-10c1cc238468",
   "metadata": {},
   "outputs": [],
   "source": [
    "train_features[0]"
   ]
  },
  {
   "cell_type": "code",
   "execution_count": null,
   "id": "2d746171-f726-4c2d-b78a-e2ea58359b02",
   "metadata": {},
   "outputs": [],
   "source": [
    "# upload to S3\n",
    "\n",
    "import io\n",
    "import sagemaker.amazon.common as smac\n",
    "\n",
    "train_set_buf = io.BytesIO()\n",
    "smac.write_numpy_to_dense_tensor(train_set_buf, train_features, train_labels)\n",
    "train_set_buf.seek(0)"
   ]
  },
  {
   "cell_type": "code",
   "execution_count": null,
   "id": "547f5879-8b98-488c-97a3-5f9038d3d2c0",
   "metadata": {},
   "outputs": [],
   "source": [
    "import sagemaker\n",
    "\n",
    "sess = sagemaker.Session()\n",
    "bucket = sess.default_bucket()\n",
    "prefix = \"sagemaker/DEMO-knn-covtype\"\n",
    "\n",
    "key = \"recordio-pb-data\"\n",
    "boto3.resource(\"s3\").Bucket(bucket).Object(os.path.join(prefix, \"train\", key)).upload_fileobj(train_set_buf)\n",
    "s3_train_data = f\"s3://{bucket}/{prefix}/train/{key}\"\n",
    "\n",
    "print(f\"Uploaded training data location: {s3_train_data}\")"
   ]
  },
  {
   "cell_type": "code",
   "execution_count": null,
   "id": "ff7eb429-0943-4ba1-8411-026a70fbefe3",
   "metadata": {},
   "outputs": [],
   "source": [
    "# Upload test data to S3 to help woth evaluation later on\n",
    "\n",
    "test_set_buf = io.BytesIO()\n",
    "smac.write_numpy_to_dense_tensor(test_set_buf, test_features, test_labels)\n",
    "test_set_buf.seek(0)\n",
    "\n",
    "boto3.resource(\"s3\").Bucket(bucket).Object(os.path.join(prefix, \"test\", key)).upload_fileobj(test_set_buf)\n",
    "s3_test_data = f\"s3://{bucket}/{prefix}/test/{key}\"\n",
    "print(f\"Uploaded test data to location: {s3_test_data}\")"
   ]
  },
  {
   "cell_type": "code",
   "execution_count": null,
   "id": "50233772-2353-40eb-bcea-e5cdb1d286d1",
   "metadata": {},
   "outputs": [],
   "source": [
    "# Train the model\n",
    "from sagemaker import get_execution_role\n",
    "from sagemaker.serializers import CSVSerializer\n",
    "from sagemaker.deserializers import JSONDeserializer\n",
    "\n",
    "from sagemaker import image_uris"
   ]
  },
  {
   "cell_type": "code",
   "execution_count": null,
   "id": "0da104f0-5e9c-433e-bd02-ff828d8ead5a",
   "metadata": {},
   "outputs": [],
   "source": [
    "role = get_execution_role()"
   ]
  },
  {
   "cell_type": "code",
   "execution_count": null,
   "id": "3763bb7e-d1fc-4469-a8f1-953092644204",
   "metadata": {},
   "outputs": [],
   "source": [
    "container = image_uris.retrieve(framework=\"knn\", region=region)\n",
    "\n",
    "def trained_estimator_from_hyperparameters(s3_train_data, hyperparams, output_path, s3_test_data=None):\n",
    "    knn = sagemaker.estimator.Estimator(\n",
    "        image_uri=container,\n",
    "        role=role,\n",
    "        instance_count=1,\n",
    "        instance_type=\"ml.m5.xlarge\",\n",
    "        output_path=output_path,\n",
    "        sagemaker_session=sess,\n",
    "    )\n",
    "    knn.set_hyperparameters(**hyperparams)\n",
    "    # fit the model\n",
    "    inputs = {\"train\":s3_train_data}\n",
    "    if s3_test_data is not None:\n",
    "        inputs[\"test\"] = s3_test_data\n",
    "    knn.fit(inputs=inputs)\n",
    "    return knn"
   ]
  },
  {
   "cell_type": "code",
   "execution_count": null,
   "id": "4a5182d2-6c7e-43fc-bee4-8abd1c49b16f",
   "metadata": {},
   "outputs": [],
   "source": [
    "# Run the training job\n",
    "\n",
    "output_path = f\"s3://{bucket}/{prefix}/output\"\n",
    "hyperparams = {\"feature_dim\":54, \"k\":10, \"sample_size\":200000, \"predictor_type\":\"classifier\"}\n",
    "knn_estimator = trained_estimator_from_hyperparameters(s3_train_data, hyperparams, output_path, s3_test_data=s3_test_data)"
   ]
  },
  {
   "cell_type": "code",
   "execution_count": null,
   "id": "c81c2c03-6218-4f76-8746-54cb46364009",
   "metadata": {},
   "outputs": [],
   "source": [
    "# Setup endpoint\n",
    "\n",
    "def predictor_from_estimator(estimator, estimator_name, instance_type, endpoint_name):\n",
    "    predictor = estimator.deploy(\n",
    "        initial_instance_count=1,\n",
    "        instance_type=instance_type,\n",
    "        endpoint_name=endpoint_name\n",
    "    )\n",
    "    predictor.serializer = CSVSerializer()\n",
    "    predictor.deserializer = JSONDeserializer()\n",
    "\n",
    "    return predictor"
   ]
  },
  {
   "cell_type": "code",
   "execution_count": null,
   "id": "48ab04fc-3bc1-4518-badd-e280fd992a76",
   "metadata": {},
   "outputs": [],
   "source": [
    "import time\n",
    "instance_type = \"ml.m4.xlarge\"\n",
    "endpoint_name = \"knn-demo-covtype\" + time.strftime(\"%Y-%m-%d-%H-%M-%S\", time.gmtime()) \n",
    "knn_predictor = predictor_from_estimator(knn_estimator, estimator_name=f\"knn-{instance_type}\", instance_type=instance_type, endpoint_name=endpoint_name)"
   ]
  },
  {
   "cell_type": "code",
   "execution_count": null,
   "id": "d5f15c89-d8e8-4f3a-a7ca-4f31668ed0b7",
   "metadata": {},
   "outputs": [],
   "source": [
    "test_features.shape"
   ]
  },
  {
   "cell_type": "code",
   "execution_count": null,
   "id": "0296f982-10e4-4897-baed-7b7d9da1d18f",
   "metadata": {},
   "outputs": [],
   "source": [
    "sample_prediction = knn_predictor.predict(test_features[30:35], initial_args={\"ContentType\":\"text/csv\"})\n",
    "print(sample_prediction)\n",
    "print(type(sample_prediction))"
   ]
  },
  {
   "cell_type": "code",
   "execution_count": null,
   "id": "fe9de1d6-fa69-47f2-afbd-236309060b6b",
   "metadata": {},
   "outputs": [],
   "source": [
    "# Batch Predictions\n",
    "\n",
    "batches = np.array_split(test_features, 100)\n",
    "print(f\"data split into 100 batches of size {batches[0].shape[0]}\")\n",
    "\n",
    "start_time = time.time()\n",
    "predictions = []\n",
    "for batch in batches:\n",
    "    result = knn_predictor.predict(batch, initial_args={\"ContentType\":\"text/csv\"})\n",
    "    cur_predictions = np.array(\n",
    "        [result[\"predictions\"][i][\"predicted_label\"] for i in range(len(result[\"predictions\"]))]\n",
    "    )\n",
    "    predictions.append(cur_predictions)\n",
    "\n",
    "predictions = np.concatenate(predictions)\n",
    "run_time = time.time() - start_time\n",
    "\n",
    "test_size = test_labels.shape[0]\n",
    "num_correct = sum(predictions == test_labels)\n",
    "accuracy = num_correct/float(test_size)\n",
    "print(f\"Time required for prediction {test_size} data points:{run_time} seconds\")\n",
    "print(f\"Accuracy of the model: {accuracy}%\")"
   ]
  },
  {
   "cell_type": "code",
   "execution_count": null,
   "id": "eb9ceee7-82ee-40cf-9abd-11cd2bd81c82",
   "metadata": {},
   "outputs": [],
   "source": [
    "knn_predictor.delete_model()\n",
    "knn_predictor.delete_endpoint()"
   ]
  }
 ],
 "metadata": {
  "kernelspec": {
   "display_name": "Python 3 (ipykernel)",
   "language": "python",
   "name": "python3"
  },
  "language_info": {
   "codemirror_mode": {
    "name": "ipython",
    "version": 3
   },
   "file_extension": ".py",
   "mimetype": "text/x-python",
   "name": "python",
   "nbconvert_exporter": "python",
   "pygments_lexer": "ipython3",
   "version": "3.10.14"
  }
 },
 "nbformat": 4,
 "nbformat_minor": 5
}
